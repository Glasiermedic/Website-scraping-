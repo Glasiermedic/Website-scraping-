{
  "nbformat": 4,
  "nbformat_minor": 0,
  "metadata": {
    "hide_input": false,
    "kernelspec": {
      "display_name": "Python 3",
      "language": "python",
      "name": "python3"
    },
    "language_info": {
      "codemirror_mode": {
        "name": "ipython",
        "version": 3
      },
      "file_extension": ".py",
      "mimetype": "text/x-python",
      "name": "python",
      "nbconvert_exporter": "python",
      "pygments_lexer": "ipython3",
      "version": "3.7.1"
    },
    "colab": {
      "name": "5.2.4 APIs.ipynb",
      "version": "0.3.2",
      "provenance": [],
      "include_colab_link": true
    }
  },
  "cells": [
    {
      "cell_type": "markdown",
      "metadata": {
        "id": "view-in-github",
        "colab_type": "text"
      },
      "source": [
        "<a href=\"https://colab.research.google.com/github/Glasiermedic/Website_scraping/blob/master/5_2_4_APIs.ipynb\" target=\"_parent\"><img src=\"https://colab.research.google.com/assets/colab-badge.svg\" alt=\"Open In Colab\"/></a>"
      ]
    },
    {
      "cell_type": "code",
      "metadata": {
        "id": "_bbwpU2oYYNQ",
        "colab_type": "code",
        "cellView": "form",
        "colab": {}
      },
      "source": [
        "#@title\n",
        "%matplotlib inline\n",
        "import numpy as np\n",
        "import pandas as pd\n",
        "import scipy\n",
        "import sklearn\n",
        "import matplotlib.pyplot as plt\n",
        "import seaborn as sns\n",
        "\n",
        "pd.set_option('display.max_rows', 1000)\n",
        "pd.set_option('display.max_columns', 50)\n",
        "import math\n",
        "import warnings\n",
        "warnings.simplefilter(action='ignore', category=FutureWarning)\n",
        "\n",
        "from sklearn import linear_model\n",
        "from sklearn.linear_model import LogisticRegression\n",
        "from sklearn import ensemble\n",
        "from sklearn import datasets\n",
        "from sklearn.utils import shuffle\n",
        "from sklearn.metrics import mean_squared_error\n",
        "from sklearn.metrics import accuracy_score\n",
        "from sklearn.metrics import recall_score\n",
        "from sklearn.metrics import precision_score\n",
        "from sklearn.metrics import roc_auc_score\n",
        "from sklearn.svm import SVC\n",
        "from sklearn.metrics import classification_report\n",
        "\n",
        "from IPython.display import display\n",
        "\n",
        "import spacy\n",
        "import re\n",
        "#from nltk.corpus import gutenberg, stopwords\n",
        "#from collections import Counter\n",
        "#import nltk\n",
        "#nltk.download('gutenberg')\n",
        "\n",
        "#from spacy.lang.en import English\n",
        "\n",
        "# Display preferences.\n",
        "%matplotlib inline\n",
        "pd.options.display.float_format = '{:.3f}'.format\n",
        "\n",
        "# Suppress annoying harmless error.\n",
        "warnings.filterwarnings(\n",
        "    action=\"ignore\",\n",
        "    module=\"scipy\",\n",
        "    message=\"^internal gelsd\"\n",
        ")\n",
        "\n",
        "from sklearn.exceptions import DataConversionWarning\n",
        "warnings.filterwarnings(action='ignore', category=DataConversionWarning)\n",
        "\n",
        "from sklearn.metrics import confusion_matrix\n",
        "from sklearn.naive_bayes import BernoulliNB\n",
        "from sklearn.model_selection import train_test_split\n",
        "from sklearn.model_selection import cross_val_score\n",
        "\n",
        "from sklearn.decomposition import PCA\n",
        "from sklearn import neighbors\n",
        "from sklearn.naive_bayes import MultinomialNB\n",
        "from sklearn.neighbors import KNeighborsClassifier\n",
        "from sklearn.neighbors import KNeighborsRegressor\n",
        "\n",
        "from sklearn import ensemble\n",
        "from sklearn.model_selection import cross_val_score\n",
        "from sklearn.model_selection import GridSearchCV\n",
        "from sklearn.svm import SVR\n",
        "\n",
        "from sklearn.datasets import load_digits\n",
        "from sklearn.feature_selection import SelectKBest, chi2, f_classif\n",
        "from sklearn.preprocessing import LabelEncoder, Imputer\n",
        "from sklearn.model_selection import train_test_split\n",
        "\n",
        "from timeit import default_timer as timer\n",
        "\n",
        "from nltk.tokenize import BlanklineTokenizer\n",
        "from sklearn.feature_extraction.text import TfidfVectorizer\n",
        "import urllib.request\n",
        "from sklearn.decomposition import TruncatedSVD\n",
        "from sklearn.pipeline import make_pipeline\n",
        "from sklearn.preprocessing import Normalizer\n",
        "\n",
        "import os\n",
        "\n",
        "from sklearn.cluster import KMeans\n",
        "from sklearn.preprocessing import normalize\n",
        "from sklearn.cluster import MiniBatchKMeans\n",
        "from sklearn.datasets.samples_generator import make_blobs\n",
        "from sklearn.cluster import MeanShift, estimate_bandwidth\n",
        "from sklearn.cluster import SpectralClustering\n",
        "from sklearn.cluster import AffinityPropagation\n",
        "from sklearn import metrics\n",
        "from itertools import cycle\n",
        "\n",
        "import pydotplus\n",
        "from sklearn import tree\n",
        "from sklearn import preprocessing\n",
        "%matplotlib inline\n",
        "sns.set_style('white')"
      ],
      "execution_count": 0,
      "outputs": []
    },
    {
      "cell_type": "code",
      "metadata": {
        "id": "5nFDenKQZIiC",
        "colab_type": "code",
        "outputId": "85e3b6f1-8620-41e3-ca24-8620c04b1e6a",
        "colab": {
          "base_uri": "https://localhost:8080/",
          "height": 1000
        }
      },
      "source": [
        "!pip install scrapy"
      ],
      "execution_count": 2,
      "outputs": [
        {
          "output_type": "stream",
          "text": [
            "Collecting scrapy\n",
            "\u001b[?25l  Downloading https://files.pythonhosted.org/packages/a3/b1/d1ab5b3f84640097cf5ff642e2e357546781746d4fec2ebb40432904c57d/Scrapy-1.7.2-py2.py3-none-any.whl (234kB)\n",
            "\u001b[K     |████████████████████████████████| 235kB 4.8MB/s \n",
            "\u001b[?25hCollecting queuelib (from scrapy)\n",
            "  Downloading https://files.pythonhosted.org/packages/4c/85/ae64e9145f39dd6d14f8af3fa809a270ef3729f3b90b3c0cf5aa242ab0d4/queuelib-1.5.0-py2.py3-none-any.whl\n",
            "Requirement already satisfied: six>=1.5.2 in /usr/local/lib/python3.6/dist-packages (from scrapy) (1.12.0)\n",
            "Collecting PyDispatcher>=2.0.5 (from scrapy)\n",
            "  Downloading https://files.pythonhosted.org/packages/cd/37/39aca520918ce1935bea9c356bcbb7ed7e52ad4e31bff9b943dfc8e7115b/PyDispatcher-2.0.5.tar.gz\n",
            "Collecting cssselect>=0.9 (from scrapy)\n",
            "  Downloading https://files.pythonhosted.org/packages/7b/44/25b7283e50585f0b4156960691d951b05d061abf4a714078393e51929b30/cssselect-1.0.3-py2.py3-none-any.whl\n",
            "Collecting parsel>=1.5 (from scrapy)\n",
            "  Downloading https://files.pythonhosted.org/packages/96/69/d1d5dba5e4fecd41ffd71345863ed36a45975812c06ba77798fc15db6a64/parsel-1.5.1-py2.py3-none-any.whl\n",
            "Collecting service-identity (from scrapy)\n",
            "  Downloading https://files.pythonhosted.org/packages/e9/7c/2195b890023e098f9618d43ebc337d83c8b38d414326685339eb024db2f6/service_identity-18.1.0-py2.py3-none-any.whl\n",
            "Requirement already satisfied: lxml in /usr/local/lib/python3.6/dist-packages (from scrapy) (4.2.6)\n",
            "Collecting Twisted>=13.1.0; python_version != \"3.4\" (from scrapy)\n",
            "\u001b[?25l  Downloading https://files.pythonhosted.org/packages/79/59/035de19362320e632301ed7bbde23e4c8cd6fc5e2f1cf8d354cdba857854/Twisted-19.2.1.tar.bz2 (3.1MB)\n",
            "\u001b[K     |████████████████████████████████| 3.1MB 35.4MB/s \n",
            "\u001b[?25hCollecting pyOpenSSL (from scrapy)\n",
            "\u001b[?25l  Downloading https://files.pythonhosted.org/packages/01/c8/ceb170d81bd3941cbeb9940fc6cc2ef2ca4288d0ca8929ea4db5905d904d/pyOpenSSL-19.0.0-py2.py3-none-any.whl (53kB)\n",
            "\u001b[K     |████████████████████████████████| 61kB 20.9MB/s \n",
            "\u001b[?25hCollecting w3lib>=1.17.0 (from scrapy)\n",
            "  Downloading https://files.pythonhosted.org/packages/81/43/9dcf92a77f5f0afe4f4df2407d7289eea01368a08b64bda00dd318ca62a6/w3lib-1.20.0-py2.py3-none-any.whl\n",
            "Requirement already satisfied: attrs>=16.0.0 in /usr/local/lib/python3.6/dist-packages (from service-identity->scrapy) (19.1.0)\n",
            "Collecting cryptography (from service-identity->scrapy)\n",
            "\u001b[?25l  Downloading https://files.pythonhosted.org/packages/97/18/c6557f63a6abde34707196fb2cad1c6dc0dbff25a200d5044922496668a4/cryptography-2.7-cp34-abi3-manylinux1_x86_64.whl (2.3MB)\n",
            "\u001b[K     |████████████████████████████████| 2.3MB 38.1MB/s \n",
            "\u001b[?25hRequirement already satisfied: pyasn1 in /usr/local/lib/python3.6/dist-packages (from service-identity->scrapy) (0.4.5)\n",
            "Requirement already satisfied: pyasn1-modules in /usr/local/lib/python3.6/dist-packages (from service-identity->scrapy) (0.2.5)\n",
            "Collecting zope.interface>=4.4.2 (from Twisted>=13.1.0; python_version != \"3.4\"->scrapy)\n",
            "\u001b[?25l  Downloading https://files.pythonhosted.org/packages/19/17/1d198a6aaa9aa4590862fe3d3a2ed7dd808050cab4eebe8a2f2f813c1376/zope.interface-4.6.0-cp36-cp36m-manylinux1_x86_64.whl (167kB)\n",
            "\u001b[K     |████████████████████████████████| 174kB 44.1MB/s \n",
            "\u001b[?25hCollecting constantly>=15.1 (from Twisted>=13.1.0; python_version != \"3.4\"->scrapy)\n",
            "  Downloading https://files.pythonhosted.org/packages/b9/65/48c1909d0c0aeae6c10213340ce682db01b48ea900a7d9fce7a7910ff318/constantly-15.1.0-py2.py3-none-any.whl\n",
            "Collecting incremental>=16.10.1 (from Twisted>=13.1.0; python_version != \"3.4\"->scrapy)\n",
            "  Downloading https://files.pythonhosted.org/packages/f5/1d/c98a587dc06e107115cf4a58b49de20b19222c83d75335a192052af4c4b7/incremental-17.5.0-py2.py3-none-any.whl\n",
            "Collecting Automat>=0.3.0 (from Twisted>=13.1.0; python_version != \"3.4\"->scrapy)\n",
            "  Downloading https://files.pythonhosted.org/packages/a3/86/14c16bb98a5a3542ed8fed5d74fb064a902de3bdd98d6584b34553353c45/Automat-0.7.0-py2.py3-none-any.whl\n",
            "Collecting hyperlink>=17.1.1 (from Twisted>=13.1.0; python_version != \"3.4\"->scrapy)\n",
            "  Downloading https://files.pythonhosted.org/packages/7f/91/e916ca10a2de1cb7101a9b24da546fb90ee14629e23160086cf3361c4fb8/hyperlink-19.0.0-py2.py3-none-any.whl\n",
            "Collecting PyHamcrest>=1.9.0 (from Twisted>=13.1.0; python_version != \"3.4\"->scrapy)\n",
            "\u001b[?25l  Downloading https://files.pythonhosted.org/packages/9a/d5/d37fd731b7d0e91afcc84577edeccf4638b4f9b82f5ffe2f8b62e2ddc609/PyHamcrest-1.9.0-py2.py3-none-any.whl (52kB)\n",
            "\u001b[K     |████████████████████████████████| 61kB 22.3MB/s \n",
            "\u001b[?25hCollecting asn1crypto>=0.21.0 (from cryptography->service-identity->scrapy)\n",
            "\u001b[?25l  Downloading https://files.pythonhosted.org/packages/ea/cd/35485615f45f30a510576f1a56d1e0a7ad7bd8ab5ed7cdc600ef7cd06222/asn1crypto-0.24.0-py2.py3-none-any.whl (101kB)\n",
            "\u001b[K     |████████████████████████████████| 102kB 29.3MB/s \n",
            "\u001b[?25hRequirement already satisfied: cffi!=1.11.3,>=1.8 in /usr/local/lib/python3.6/dist-packages (from cryptography->service-identity->scrapy) (1.12.3)\n",
            "Requirement already satisfied: setuptools in /usr/local/lib/python3.6/dist-packages (from zope.interface>=4.4.2->Twisted>=13.1.0; python_version != \"3.4\"->scrapy) (41.0.1)\n",
            "Requirement already satisfied: idna>=2.5 in /usr/local/lib/python3.6/dist-packages (from hyperlink>=17.1.1->Twisted>=13.1.0; python_version != \"3.4\"->scrapy) (2.8)\n",
            "Requirement already satisfied: pycparser in /usr/local/lib/python3.6/dist-packages (from cffi!=1.11.3,>=1.8->cryptography->service-identity->scrapy) (2.19)\n",
            "Building wheels for collected packages: PyDispatcher, Twisted\n",
            "  Building wheel for PyDispatcher (setup.py) ... \u001b[?25l\u001b[?25hdone\n",
            "  Stored in directory: /root/.cache/pip/wheels/88/99/96/cfef6665f9cb1522ee6757ae5955feedf2fe25f1737f91fa7f\n",
            "  Building wheel for Twisted (setup.py) ... \u001b[?25l\u001b[?25hdone\n",
            "  Stored in directory: /root/.cache/pip/wheels/19/4c/a1/0bef832134076abab3461815e92cf41f2518dffe1a5337203b\n",
            "Successfully built PyDispatcher Twisted\n",
            "Installing collected packages: queuelib, PyDispatcher, cssselect, w3lib, parsel, asn1crypto, cryptography, service-identity, zope.interface, constantly, incremental, Automat, hyperlink, PyHamcrest, Twisted, pyOpenSSL, scrapy\n",
            "Successfully installed Automat-0.7.0 PyDispatcher-2.0.5 PyHamcrest-1.9.0 Twisted-19.2.1 asn1crypto-0.24.0 constantly-15.1.0 cryptography-2.7 cssselect-1.0.3 hyperlink-19.0.0 incremental-17.5.0 parsel-1.5.1 pyOpenSSL-19.0.0 queuelib-1.5.0 scrapy-1.7.2 service-identity-18.1.0 w3lib-1.20.0 zope.interface-4.6.0\n"
          ],
          "name": "stdout"
        }
      ]
    },
    {
      "cell_type": "markdown",
      "metadata": {
        "id": "ClpHfmeOfBNH",
        "colab_type": "text"
      },
      "source": [
        "##  Searching Craigslist from your friendly Python environment: for the serious coder\n",
        "\n",
        "Do a little scraping or API-calling of your own.  Pick a new website and see what you can get out of it.  Expect that you'll run into bugs and blind alleys, and rely on your mentor to help you get through.  \n",
        "\n",
        "Formally, your goal is to write a scraper that will:\n",
        "\n",
        "1) Return specific pieces of information (rather than just downloading a whole page)  \n",
        "2) Iterate over multiple pages/queries  \n",
        "3) Save the data to your computer  \n",
        "\n",
        "Once you have your data, compute some statistical summaries and/or visualizations that give you some new insights into your scraping topic of interest.  Write up a report from scraping code to summary and share it with your mentor."
      ]
    },
    {
      "cell_type": "code",
      "metadata": {
        "id": "LLsf5_Ag0Mvi",
        "colab_type": "code",
        "outputId": "a1af0bc7-ab07-4f00-a8d0-4731ceb18a9d",
        "colab": {
          "base_uri": "https://localhost:8080/",
          "height": 69
        }
      },
      "source": [
        "search_item = input(\"What are we looking for today?\")\n",
        "\n",
        "search_price_min = int(input(\"What is the minimum price?\\n\"))\n",
        "\n",
        "search_price_max = int(input(\"What is the maximum price?\\n\"))"
      ],
      "execution_count": 3,
      "outputs": [
        {
          "output_type": "stream",
          "text": [
            "What are we looking for today?telescope\n",
            "What is the minimum price?/n75\n",
            "What is the maximum price?/n4000\n"
          ],
          "name": "stdout"
        }
      ]
    },
    {
      "cell_type": "code",
      "metadata": {
        "id": "2SYGQm11Q2tk",
        "colab_type": "code",
        "outputId": "d6bd312f-5920-41ba-e054-508bdff89d30",
        "cellView": "form",
        "colab": {
          "base_uri": "https://localhost:8080/",
          "height": 34
        }
      },
      "source": [
        "#@title\n",
        "import scrapy\n",
        "from scrapy.crawler import CrawlerProcess\n",
        "\n",
        "\n",
        "class CLSpider(scrapy.Spider):\n",
        "    name = \"CL\"\n",
        "    \n",
        "    # Here is where we insert our API call.\n",
        "    start_urls = [\n",
        "        'https://sandiego.craigslist.org/search/sss?query={}&sort=date&hasPic=1&\\\n",
        "        searchNearby=2&nearbyArea=455&nearbyArea=104&nearbyArea=7&nearbyArea=103\\\n",
        "        &nearbyArea=209&nearbyArea=370'.format(search_item)\n",
        "    ]\n",
        "\n",
        "    # Identifying the information we want from the query response and extracting it using xpath.\n",
        "    def parse(self, response):\n",
        "        # Iterate over every <article> element on the page.\n",
        "        for posting in response.xpath('//p'):\n",
        "            \n",
        "            # Yield a dictionary with the values we want.\n",
        "            yield {\n",
        "                # This is the code to choose what we want to extract\n",
        "                # You can modify this with other Xpath expressions to extract other information from the site\n",
        "                'title': posting.xpath('a[@class=\"result-title hdrlnk\"]/text()').extract_first(),\n",
        "                'date' : posting.xpath('time[@class=\"result-date\"]/text()').extract_first(),\n",
        "                'price': posting.xpath('span/span[@class=\"result-price\"]/text()').extract_first(),\n",
        "                'location' : posting.xpath('span/span[@class=\"result-hood\"]/text()').extract_first(),\n",
        "                'html' : posting.xpath('a/@href').extract_first()\n",
        "            }\n",
        "        next_page = response.xpath('//div/div/span[@class=\"buttons\"]/a[3][@href]').extract_first()\n",
        "        \n",
        "        pagenum = int(re.findall(r'\\d+',next_page)[0])\n",
        "        \n",
        "        if next_page is not None and pagenum < 10:\n",
        "            next_page = response.urljoin(next_page)\n",
        "            yield scrapy.Request(next_page, callback=self.parse)\n",
        "\n",
        "# Tell the script how to run the crawler by passing in settings.\n",
        "process = CrawlerProcess({\n",
        "    'FEED_FORMAT': 'json',         # Store data in JSON format.\n",
        "    'FEED_URI': 'cldata.json',  # Name our storage file.\n",
        "    'ROBOTSTXT_OBEY': True,\n",
        "    'USER_AGENT': 'ThinkfulDataScienceBootcamp_Katherine (thinkful.com)',\n",
        "    'AUTOTHROTTLE_ENABLED': True,\n",
        "    'HTTPCACHE_ENABLED': True,\n",
        "    'LOG_ENABLED': False           # Turn off logging for now.\n",
        "})\n",
        "\n",
        "# Start the crawler with our spider.\n",
        "process.crawl(CLSpider)\n",
        "process.start()\n",
        "print('All the spiders have returned.... well all but the one who joined the circus')"
      ],
      "execution_count": 4,
      "outputs": [
        {
          "output_type": "stream",
          "text": [
            "All the spiders have returned.... well all but the one who joined the circus\n"
          ],
          "name": "stdout"
        }
      ]
    },
    {
      "cell_type": "code",
      "metadata": {
        "id": "NZicyTYiDP9n",
        "colab_type": "code",
        "outputId": "04f816a5-073c-4d0f-dfa7-71eba56dab94",
        "cellView": "form",
        "colab": {
          "base_uri": "https://localhost:8080/",
          "height": 221
        }
      },
      "source": [
        "#@title\n",
        "import pandas as pd\n",
        "\n",
        "# Checking whether we got data \n",
        "\n",
        "craigl=pd.read_json('cldata.json')\n",
        "print(craigl.shape)\n",
        "craigl.head()\n",
        "\n"
      ],
      "execution_count": 5,
      "outputs": [
        {
          "output_type": "stream",
          "text": [
            "(120, 5)\n"
          ],
          "name": "stdout"
        },
        {
          "output_type": "execute_result",
          "data": {
            "text/html": [
              "<div>\n",
              "<style scoped>\n",
              "    .dataframe tbody tr th:only-of-type {\n",
              "        vertical-align: middle;\n",
              "    }\n",
              "\n",
              "    .dataframe tbody tr th {\n",
              "        vertical-align: top;\n",
              "    }\n",
              "\n",
              "    .dataframe thead th {\n",
              "        text-align: right;\n",
              "    }\n",
              "</style>\n",
              "<table border=\"1\" class=\"dataframe\">\n",
              "  <thead>\n",
              "    <tr style=\"text-align: right;\">\n",
              "      <th></th>\n",
              "      <th>date</th>\n",
              "      <th>html</th>\n",
              "      <th>location</th>\n",
              "      <th>price</th>\n",
              "      <th>title</th>\n",
              "    </tr>\n",
              "  </thead>\n",
              "  <tbody>\n",
              "    <tr>\n",
              "      <th>0</th>\n",
              "      <td>Jul 29</td>\n",
              "      <td>https://sandiego.craigslist.org/csd/for/d/san-...</td>\n",
              "      <td>(San Diego)</td>\n",
              "      <td>$30</td>\n",
              "      <td>Telescope. Small and low tripod.</td>\n",
              "    </tr>\n",
              "    <tr>\n",
              "      <th>1</th>\n",
              "      <td>Jul 29</td>\n",
              "      <td>https://sandiego.craigslist.org/csd/for/d/san-...</td>\n",
              "      <td>(San Diego)</td>\n",
              "      <td>$60</td>\n",
              "      <td>Telescope . 18 - 36x50mm</td>\n",
              "    </tr>\n",
              "    <tr>\n",
              "      <th>2</th>\n",
              "      <td>Jul 29</td>\n",
              "      <td>https://sandiego.craigslist.org/ssd/pho/d/chul...</td>\n",
              "      <td>(Eastlake)</td>\n",
              "      <td>$1900</td>\n",
              "      <td>Meade LX200 GPS 10” Telescope with Giant Field...</td>\n",
              "    </tr>\n",
              "    <tr>\n",
              "      <th>3</th>\n",
              "      <td>Jul 29</td>\n",
              "      <td>https://sandiego.craigslist.org/nsd/rvs/d/sun-...</td>\n",
              "      <td>(Canyon Lake)</td>\n",
              "      <td>$35000</td>\n",
              "      <td>2002 Jayco Avatar 3800 Diesel Pusher Coach RV</td>\n",
              "    </tr>\n",
              "    <tr>\n",
              "      <th>4</th>\n",
              "      <td>Jul 29</td>\n",
              "      <td>https://sandiego.craigslist.org/csd/ele/d/san-...</td>\n",
              "      <td>(North Park)</td>\n",
              "      <td>$30</td>\n",
              "      <td>FIRM PRICE! NEW Monocular Telescope 10X42 - Hi...</td>\n",
              "    </tr>\n",
              "  </tbody>\n",
              "</table>\n",
              "</div>"
            ],
            "text/plain": [
              "     date                                               html        location  \\\n",
              "0  Jul 29  https://sandiego.craigslist.org/csd/for/d/san-...     (San Diego)   \n",
              "1  Jul 29  https://sandiego.craigslist.org/csd/for/d/san-...     (San Diego)   \n",
              "2  Jul 29  https://sandiego.craigslist.org/ssd/pho/d/chul...      (Eastlake)   \n",
              "3  Jul 29  https://sandiego.craigslist.org/nsd/rvs/d/sun-...   (Canyon Lake)   \n",
              "4  Jul 29  https://sandiego.craigslist.org/csd/ele/d/san-...    (North Park)   \n",
              "\n",
              "    price                                              title  \n",
              "0     $30                   Telescope. Small and low tripod.  \n",
              "1     $60                           Telescope . 18 - 36x50mm  \n",
              "2   $1900  Meade LX200 GPS 10” Telescope with Giant Field...  \n",
              "3  $35000      2002 Jayco Avatar 3800 Diesel Pusher Coach RV  \n",
              "4     $30  FIRM PRICE! NEW Monocular Telescope 10X42 - Hi...  "
            ]
          },
          "metadata": {
            "tags": []
          },
          "execution_count": 5
        }
      ]
    },
    {
      "cell_type": "code",
      "metadata": {
        "id": "68RYHhPa10Eb",
        "colab_type": "code",
        "outputId": "c354360c-159a-4745-ab26-4b797825e8bd",
        "cellView": "form",
        "colab": {
          "base_uri": "https://localhost:8080/",
          "height": 34
        }
      },
      "source": [
        "#@title\n",
        "craigl.columns"
      ],
      "execution_count": 6,
      "outputs": [
        {
          "output_type": "execute_result",
          "data": {
            "text/plain": [
              "Index(['date', 'html', 'location', 'price', 'title'], dtype='object')"
            ]
          },
          "metadata": {
            "tags": []
          },
          "execution_count": 6
        }
      ]
    },
    {
      "cell_type": "code",
      "metadata": {
        "id": "hJfkAvZd5DyK",
        "colab_type": "code",
        "colab": {}
      },
      "source": [
        "#type(int(craigl.price[1][1:]))"
      ],
      "execution_count": 0,
      "outputs": []
    },
    {
      "cell_type": "code",
      "metadata": {
        "id": "59jW25Pf7xBT",
        "colab_type": "code",
        "outputId": "dac2ddfc-f24f-48cd-ad33-60c59287d923",
        "colab": {
          "base_uri": "https://localhost:8080/",
          "height": 34
        }
      },
      "source": [
        "craigl.title[1][1:].isdigit()"
      ],
      "execution_count": 8,
      "outputs": [
        {
          "output_type": "execute_result",
          "data": {
            "text/plain": [
              "False"
            ]
          },
          "metadata": {
            "tags": []
          },
          "execution_count": 8
        }
      ]
    },
    {
      "cell_type": "code",
      "metadata": {
        "id": "V5SPvq9l9_TB",
        "colab_type": "code",
        "outputId": "e6fefade-ac43-49bb-f95f-a277035d0d70",
        "colab": {
          "base_uri": "https://localhost:8080/",
          "height": 34
        }
      },
      "source": [
        "craigl.price[1][1:].isdigit()"
      ],
      "execution_count": 9,
      "outputs": [
        {
          "output_type": "execute_result",
          "data": {
            "text/plain": [
              "True"
            ]
          },
          "metadata": {
            "tags": []
          },
          "execution_count": 9
        }
      ]
    },
    {
      "cell_type": "code",
      "metadata": {
        "id": "w5ll4VP-Db-C",
        "colab_type": "code",
        "outputId": "77548b49-c172-4d58-d131-ace69c6331da",
        "colab": {
          "base_uri": "https://localhost:8080/",
          "height": 34
        }
      },
      "source": [
        "inval = 1\n",
        "if type(inval) != int and type(inval) != float:\n",
        "  test = \"text\"\n",
        "  \n",
        "else: \n",
        "  test = \"number\"\n",
        "  \n",
        "print (test)"
      ],
      "execution_count": 10,
      "outputs": [
        {
          "output_type": "stream",
          "text": [
            "number\n"
          ],
          "name": "stdout"
        }
      ]
    },
    {
      "cell_type": "code",
      "metadata": {
        "id": "QrgmYNN_Rxz1",
        "colab_type": "code",
        "colab": {}
      },
      "source": [
        "def convert_money(inval):\n",
        "  if type(inval) != int and type(inval) != float:\n",
        "      if inval[0]== \"$\":\n",
        "          mid_val = inval[1:].replace(\",\", \"\")\n",
        "          return mid_val\n",
        "      else:\n",
        "        mid_val = inval.replace(\",\",\"\")\n",
        "        mid_val = mid_val.replace(\"$\", \"\")\n",
        "        if mid_val.isdigit() == True:\n",
        "          test_val = int(mid_val)\n",
        "          return test_val\n",
        "        else: \n",
        "          return mid_val\n",
        "          \n",
        "  else:\n",
        "    return inval\n",
        "  \n",
        "\n",
        "#print (convert_money(1))\n",
        "#print (convert_money(\"$100\"), type(convert_money(\"$100\")))\n",
        "#print (convert_money(\"2,000\"),type(convert_money(\"2,000\")))\n",
        "#print (convert_money(\"3210\"))\n",
        "#print (convert_money(\"$554,000.00\"))\n",
        "#print (convert_money(\"$mt2\"),type(convert_money(\"$mt2\")))"
      ],
      "execution_count": 0,
      "outputs": []
    },
    {
      "cell_type": "code",
      "metadata": {
        "id": "5jy_DSy43Duu",
        "colab_type": "code",
        "colab": {}
      },
      "source": [
        "for i in range(craigl.shape[0]):\n",
        "  craigl[\"price\"][i] = int(convert_money(craigl[\"price\"][i])*1)\n",
        "    \n",
        "\n",
        "craigl.head()\n",
        "\n",
        "craigl.price = craigl.price.astype('int32')"
      ],
      "execution_count": 0,
      "outputs": []
    },
    {
      "cell_type": "code",
      "metadata": {
        "id": "PDnLbAAW_1EJ",
        "colab_type": "code",
        "outputId": "b13cb009-aaba-44fc-8719-5c2d6ef81c5c",
        "colab": {
          "base_uri": "https://localhost:8080/",
          "height": 34
        }
      },
      "source": [
        "craigl.shape[0]"
      ],
      "execution_count": 13,
      "outputs": [
        {
          "output_type": "execute_result",
          "data": {
            "text/plain": [
              "120"
            ]
          },
          "metadata": {
            "tags": []
          },
          "execution_count": 13
        }
      ]
    },
    {
      "cell_type": "code",
      "metadata": {
        "id": "KnBSbsbbVCnC",
        "colab_type": "code",
        "outputId": "2aa729a6-870f-48d3-f4e6-53c410e89967",
        "colab": {
          "base_uri": "https://localhost:8080/",
          "height": 192
        }
      },
      "source": [
        "craigl.info()"
      ],
      "execution_count": 14,
      "outputs": [
        {
          "output_type": "stream",
          "text": [
            "<class 'pandas.core.frame.DataFrame'>\n",
            "RangeIndex: 120 entries, 0 to 119\n",
            "Data columns (total 5 columns):\n",
            "date        120 non-null object\n",
            "html        120 non-null object\n",
            "location    40 non-null object\n",
            "price       120 non-null int32\n",
            "title       120 non-null object\n",
            "dtypes: int32(1), object(4)\n",
            "memory usage: 4.3+ KB\n"
          ],
          "name": "stdout"
        }
      ]
    },
    {
      "cell_type": "code",
      "metadata": {
        "id": "g659_7VH_5MR",
        "colab_type": "code",
        "outputId": "d576addd-7e86-4a8d-ac8f-f705783a9d2c",
        "colab": {
          "base_uri": "https://localhost:8080/",
          "height": 34
        }
      },
      "source": [
        "#if search_price_range[0].isdigit() == False or search_price_range[1].isdigit() == False:\n",
        "#search_price_range = (0,5000)\n",
        "\n",
        "print(search_price_min, search_price_max)"
      ],
      "execution_count": 16,
      "outputs": [
        {
          "output_type": "stream",
          "text": [
            "75 4000\n"
          ],
          "name": "stdout"
        }
      ]
    },
    {
      "cell_type": "code",
      "metadata": {
        "id": "WpaA_IvM9ZvU",
        "colab_type": "code",
        "colab": {}
      },
      "source": [
        "craigl_range = craigl[craigl.price > search_price_min]\n",
        "craigl_range = craigl_range[craigl_range.price < search_price_max]"
      ],
      "execution_count": 0,
      "outputs": []
    },
    {
      "cell_type": "code",
      "metadata": {
        "id": "ss1t3vOAuve4",
        "colab_type": "code",
        "outputId": "428ef79c-4929-4c5c-a301-9a3cc8764e2c",
        "colab": {
          "base_uri": "https://localhost:8080/",
          "height": 384
        }
      },
      "source": [
        "craigl_range.price.value_counts().head(20)"
      ],
      "execution_count": 18,
      "outputs": [
        {
          "output_type": "execute_result",
          "data": {
            "text/plain": [
              "1250    4\n",
              "450     3\n",
              "2000    3\n",
              "100     3\n",
              "300     3\n",
              "425     3\n",
              "750     3\n",
              "3500    2\n",
              "1450    2\n",
              "140     2\n",
              "80      2\n",
              "500     2\n",
              "195     2\n",
              "90      1\n",
              "650     1\n",
              "2950    1\n",
              "800     1\n",
              "399     1\n",
              "130     1\n",
              "85      1\n",
              "Name: price, dtype: int64"
            ]
          },
          "metadata": {
            "tags": []
          },
          "execution_count": 18
        }
      ]
    },
    {
      "cell_type": "code",
      "metadata": {
        "id": "La99_ehVUh6h",
        "colab_type": "code",
        "outputId": "3ce4c535-ab88-4476-d6ed-d0a5bed616de",
        "colab": {
          "base_uri": "https://localhost:8080/",
          "height": 221
        }
      },
      "source": [
        "print (craigl_range.shape)\n",
        "craigl_range.head()"
      ],
      "execution_count": 19,
      "outputs": [
        {
          "output_type": "stream",
          "text": [
            "(60, 5)\n"
          ],
          "name": "stdout"
        },
        {
          "output_type": "execute_result",
          "data": {
            "text/html": [
              "<div>\n",
              "<style scoped>\n",
              "    .dataframe tbody tr th:only-of-type {\n",
              "        vertical-align: middle;\n",
              "    }\n",
              "\n",
              "    .dataframe tbody tr th {\n",
              "        vertical-align: top;\n",
              "    }\n",
              "\n",
              "    .dataframe thead th {\n",
              "        text-align: right;\n",
              "    }\n",
              "</style>\n",
              "<table border=\"1\" class=\"dataframe\">\n",
              "  <thead>\n",
              "    <tr style=\"text-align: right;\">\n",
              "      <th></th>\n",
              "      <th>date</th>\n",
              "      <th>html</th>\n",
              "      <th>location</th>\n",
              "      <th>price</th>\n",
              "      <th>title</th>\n",
              "    </tr>\n",
              "  </thead>\n",
              "  <tbody>\n",
              "    <tr>\n",
              "      <th>2</th>\n",
              "      <td>Jul 29</td>\n",
              "      <td>https://sandiego.craigslist.org/ssd/pho/d/chul...</td>\n",
              "      <td>(Eastlake)</td>\n",
              "      <td>1900</td>\n",
              "      <td>Meade LX200 GPS 10” Telescope with Giant Field...</td>\n",
              "    </tr>\n",
              "    <tr>\n",
              "      <th>5</th>\n",
              "      <td>Jul 29</td>\n",
              "      <td>https://sandiego.craigslist.org/ssd/tls/d/delt...</td>\n",
              "      <td>(SAN DIEGO)</td>\n",
              "      <td>3500</td>\n",
              "      <td>DELTA RE35 SLIDING TABLE TABLE SAW PANEL SCORI...</td>\n",
              "    </tr>\n",
              "    <tr>\n",
              "      <th>7</th>\n",
              "      <td>Jul 29</td>\n",
              "      <td>https://sandiego.craigslist.org/nsd/pho/d/boga...</td>\n",
              "      <td>(Oceanside)</td>\n",
              "      <td>160</td>\n",
              "      <td>Bogan 3046 Tripod Excellent Condition!</td>\n",
              "    </tr>\n",
              "    <tr>\n",
              "      <th>11</th>\n",
              "      <td>Jul 28</td>\n",
              "      <td>https://sandiego.craigslist.org/ssd/for/d/chul...</td>\n",
              "      <td>(Chula Vista)</td>\n",
              "      <td>300</td>\n",
              "      <td>Meade DS2114ATS Telescope</td>\n",
              "    </tr>\n",
              "    <tr>\n",
              "      <th>12</th>\n",
              "      <td>Jul 28</td>\n",
              "      <td>https://sandiego.craigslist.org/nsd/for/d/card...</td>\n",
              "      <td>(Cardiff by the Sea)</td>\n",
              "      <td>150</td>\n",
              "      <td>Telescope</td>\n",
              "    </tr>\n",
              "  </tbody>\n",
              "</table>\n",
              "</div>"
            ],
            "text/plain": [
              "      date                                               html  \\\n",
              "2   Jul 29  https://sandiego.craigslist.org/ssd/pho/d/chul...   \n",
              "5   Jul 29  https://sandiego.craigslist.org/ssd/tls/d/delt...   \n",
              "7   Jul 29  https://sandiego.craigslist.org/nsd/pho/d/boga...   \n",
              "11  Jul 28  https://sandiego.craigslist.org/ssd/for/d/chul...   \n",
              "12  Jul 28  https://sandiego.craigslist.org/nsd/for/d/card...   \n",
              "\n",
              "                 location  price  \\\n",
              "2              (Eastlake)   1900   \n",
              "5             (SAN DIEGO)   3500   \n",
              "7             (Oceanside)    160   \n",
              "11          (Chula Vista)    300   \n",
              "12   (Cardiff by the Sea)    150   \n",
              "\n",
              "                                                title  \n",
              "2   Meade LX200 GPS 10” Telescope with Giant Field...  \n",
              "5   DELTA RE35 SLIDING TABLE TABLE SAW PANEL SCORI...  \n",
              "7              Bogan 3046 Tripod Excellent Condition!  \n",
              "11                          Meade DS2114ATS Telescope  \n",
              "12                                          Telescope  "
            ]
          },
          "metadata": {
            "tags": []
          },
          "execution_count": 19
        }
      ]
    },
    {
      "cell_type": "code",
      "metadata": {
        "id": "OKgrIjXywMur",
        "colab_type": "code",
        "outputId": "81a1db2f-f8eb-4a10-bdff-bd1084196794",
        "colab": {
          "base_uri": "https://localhost:8080/",
          "height": 312
        }
      },
      "source": [
        "plt.hist(craigl_range.price, bins=10)\n",
        "plt.xlabel('{} price range'.format(search_item))\n",
        "plt.ylabel('Count at price')\n",
        "plt.title('Price of {} in your price range on Craigslist'.format(search_item))"
      ],
      "execution_count": 20,
      "outputs": [
        {
          "output_type": "execute_result",
          "data": {
            "text/plain": [
              "Text(0.5, 1.0, 'Price of telescope in your price range on Craigslist')"
            ]
          },
          "metadata": {
            "tags": []
          },
          "execution_count": 20
        },
        {
          "output_type": "display_data",
          "data": {
            "image/png": "[encoded data removed]",
            "text/plain": [
              "<Figure size 432x288 with 1 Axes>"
            ]
          },
          "metadata": {
            "tags": []
          }
        }
      ]
    },
    {
      "cell_type": "code",
      "metadata": {
        "id": "O-ZhApQTDIzT",
        "colab_type": "code",
        "outputId": "a374c1d8-4637-4e56-ee65-5cb402fbc3d7",
        "colab": {
          "base_uri": "https://localhost:8080/",
          "height": 34
        }
      },
      "source": [
        "print (\"While there is a wide range of prices on craigslist for a {} the median price is ${}\".format(search_item, craigl.price.median()))"
      ],
      "execution_count": 21,
      "outputs": [
        {
          "output_type": "stream",
          "text": [
            "While there is a wide range of prices on craigslist for a telescope the median price is $300.0\n"
          ],
          "name": "stdout"
        }
      ]
    },
    {
      "cell_type": "code",
      "metadata": {
        "id": "cvFNs_kvE4cj",
        "colab_type": "code",
        "colab": {}
      },
      "source": [
        "craigl_range.to_csv(r'C:\\Users\\sewmo\\Desktop\\Thinkful files\\Data sets\\craigslist{}.csv'.format(search_item), index = None, header=True)"
      ],
      "execution_count": 0,
      "outputs": []
    },
    {
      "cell_type": "code",
      "metadata": {
        "id": "BC_zLJRIG944",
        "colab_type": "code",
        "colab": {}
      },
      "source": [
        ""
      ],
      "execution_count": 0,
      "outputs": []
    }
  ]
}